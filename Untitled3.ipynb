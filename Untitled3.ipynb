{
 "cells": [
  {
   "cell_type": "code",
   "execution_count": 1,
   "metadata": {},
   "outputs": [],
   "source": [
    "\n",
    "import boto3\n",
    "import csv\n",
    "import re\n",
    "import os\n",
    "region='us-east-1'\n",
    "with open(\"shar_accessKeys.csv\",\"r\") as input:\n",
    "    next(input)\n",
    "    reader=csv.reader(input)\n",
    "    for line in reader:\n",
    "        accesskey=line[0]\n",
    "        secretkey=line[1]\n",
    "photo='dataset/korf1.jpg'\n",
    "client=boto3.client('rekognition',aws_access_key_id=accesskey,aws_secret_access_key=secretkey,region_name=region)\n",
    "#client=boto3.client('rekognition')"
   ]
  },
  {
   "cell_type": "code",
   "execution_count": 6,
   "metadata": {},
   "outputs": [
    {
     "name": "stdout",
     "output_type": "stream",
     "text": [
      "[]\n"
     ]
    }
   ],
   "source": [
    "from PIL import Image, ImageEnhance\n",
    "l1=[]\n",
    "l2=[]\n",
    "\n",
    "im = Image.open('dataset/boy1.jpg')\n",
    "\n",
    "enhancer = ImageEnhance.Sharpness(im)\n",
    "dict={}\n",
    "\n",
    "im_output = enhancer.enhance(0.5)\n",
    "\n",
    "im_output.save('darkened-image.png')\n",
    "im = Image.open('darkened-image.png')\n",
    "enhancer = ImageEnhance.Brightness(im)\n",
    "im_output = enhancer.enhance(10)\n",
    "im_output.save('darkened-image.png')\n",
    "im = Image.open('darkened-image.png')\n",
    "enhancer = ImageEnhance.Brightness(im)\n",
    "im_output = enhancer.enhance(0.5)\n",
    "im_output.save('darkened-image.png')\n",
    "with open('darkened-image.png', \"rb\") as source_image:\n",
    "    image=source_image.read()\n",
    "    response=client.detect_faces(Image={'Bytes':image}, Attributes=['ALL'])\n",
    "    value=response.get('FaceDetails')\n",
    "    if value:\n",
    "        v=value[0]\n",
    "\n",
    "        k=v.get('Gender')\n",
    "        if k['Value']=='Male':\n",
    "            l1.append('0')\n",
    "        else:\n",
    "\n",
    "            l1.append('1')\n",
    "\n",
    "        l1.append(k['Confidence'])\n",
    "                \n",
    "\n",
    "            \n",
    "\n",
    "   \n",
    "print(l1)\n",
    "    \n"
   ]
  },
  {
   "cell_type": "code",
   "execution_count": null,
   "metadata": {},
   "outputs": [],
   "source": []
  }
 ],
 "metadata": {
  "kernelspec": {
   "display_name": "Python 3",
   "language": "python",
   "name": "python3"
  },
  "language_info": {
   "codemirror_mode": {
    "name": "ipython",
    "version": 3
   },
   "file_extension": ".py",
   "mimetype": "text/x-python",
   "name": "python",
   "nbconvert_exporter": "python",
   "pygments_lexer": "ipython3",
   "version": "3.7.4"
  }
 },
 "nbformat": 4,
 "nbformat_minor": 4
}
