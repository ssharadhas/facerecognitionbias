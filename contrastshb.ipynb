{
 "cells": [
  {
   "cell_type": "code",
   "execution_count": 1,
   "metadata": {},
   "outputs": [],
   "source": [
    "import boto3\n",
    "import csv\n",
    "import re\n",
    "import os\n",
    "region='us-east-1'\n",
    "with open(\"shar_accessKeys.csv\",\"r\") as input:\n",
    "    next(input)\n",
    "    reader=csv.reader(input)\n",
    "    for line in reader:\n",
    "        accesskey=line[0]\n",
    "        secretkey=line[1]\n",
    "photo='dataset/korf1.jpg'\n",
    "client=boto3.client('rekognition',aws_access_key_id=accesskey,aws_secret_access_key=secretkey,region_name=region)\n",
    "#client=boto3.client('rekognition')\n"
   ]
  },
  {
   "cell_type": "code",
   "execution_count": 4,
   "metadata": {},
   "outputs": [
    {
     "name": "stdout",
     "output_type": "stream",
     "text": [
      "Male\n"
     ]
    }
   ],
   "source": [
    "from PIL import Image, ImageEnhance\n",
    "basepath = 'C:/Users/sshar/testingbias/dataset/'\n",
    "import csv\n",
    "listofcsb=[]\n",
    "listfcsb=[]\n",
    "listmcsb=[]\n",
    "y=-1\n",
    "j=-1\n",
    "cor=-1\n",
    "genlist=[]\n",
    "with open(\"verify.csv\",\"r\") as input:\n",
    "    next(input)\n",
    "    reader=csv.reader(input)\n",
    "    for line in reader:\n",
    "        gen=line[0]\n",
    "        genlist.append(gen)\n",
    "print(genlist[0])\n",
    "for en in os.listdir(basepath):\n",
    "    x = re.search(\".*jpg\", en)\n",
    "    if(x):\n",
    "        #y=os.path.join(basepath,entry)\n",
    "        z=os.path.join(basepath,en)\n",
    "        #im = Image.open(z)\n",
    "        j=j+1\n",
    "        i=-1\n",
    "        \n",
    "        listofbris=[]\n",
    "        #enhancer = ImageEnhance.Brightness(im)\n",
    "        dict={}\n",
    "        numbers1=[0.025,0.05,0.25,0.5,1.0,5.0,10,20.0,30]\n",
    "        numbers2=[0.5,1.0,2.0,5.0,10,20.0,40,60,100,200,300]\n",
    "        numbers3=[0.5,1.0,2.0,5.0,10,20.0,40,60,100,200,300]\n",
    "        for x in numbers2:\n",
    "            im = Image.open(z)\n",
    "            enhancer = ImageEnhance.Contrast(im)\n",
    "            i=i+1\n",
    "            \n",
    "            im_output = enhancer.enhance(x)\n",
    "            im_output.save('change3.png')\n",
    "           \n",
    "            for y in numbers3:\n",
    "                \n",
    "                \n",
    "                \n",
    "                im = Image.open('change3.png')\n",
    "                enhancer = ImageEnhance.Sharpness(im)\n",
    "                im_output = enhancer.enhance(y)\n",
    "                im_output.save('gaus3.png')\n",
    "                for za in numbers1:\n",
    "                    dict={}\n",
    "                    l1=[]\n",
    "                    factorset=[]\n",
    "                    factorset.append(x)\n",
    "                    factorset.append(y)\n",
    "                    factorset.append(za)\n",
    "                    tup1=tuple(factorset)\n",
    "\n",
    "                    im = Image.open('gaus3.png')\n",
    "                    enhancer = ImageEnhance.Brightness(im)\n",
    "                    im_output = enhancer.enhance(y)\n",
    "                    im_output.save('change3.png')\n",
    "                    with open('change3.png', \"rb\") as source_image:\n",
    "                        image=source_image.read()\n",
    "                        response=client.detect_faces(Image={'Bytes':image}, Attributes=['ALL'])\n",
    "\n",
    "                        value=response.get('FaceDetails')\n",
    "                \n",
    "                        if value:\n",
    "                            v=value[0]\n",
    "\n",
    "                            k=v.get('Gender')\n",
    "                            if k['Value']==genlist[j]:\n",
    "                                l1.append('0')\n",
    "                            else:\n",
    "\n",
    "                                l1.append('1')\n",
    "\n",
    "                            l1.append(k['Confidence'])\n",
    "                \n",
    "\n",
    "                        dict[tup1]=l1\n",
    "                                                    \n",
    "\n",
    "\n",
    "                    listofbris.append(dict)\n",
    "            if genlist[j]=='Female':\n",
    "               \n",
    "                listfcsb.append(listofbris)\n",
    "            else:\n",
    "                \n",
    "                listmcsb.append(listofbris)                                        \n",
    "\n",
    "            listofcsb.append(listofbris)\n",
    "\n"
   ]
  },
  {
   "cell_type": "code",
   "execution_count": null,
   "metadata": {},
   "outputs": [],
   "source": []
  },
  {
   "cell_type": "code",
   "execution_count": 11,
   "metadata": {},
   "outputs": [
    {
     "name": "stdout",
     "output_type": "stream",
     "text": [
      "Stored 'listof3' (list)\n"
     ]
    }
   ],
   "source": [
    "%store listof3"
   ]
  },
  {
   "cell_type": "code",
   "execution_count": 12,
   "metadata": {},
   "outputs": [
    {
     "name": "stdout",
     "output_type": "stream",
     "text": [
      "Stored 'listmc' (list)\n",
      "Stored 'listfc' (list)\n"
     ]
    }
   ],
   "source": [
    "%store listmc\n",
    "%store listfc"
   ]
  },
  {
   "cell_type": "code",
   "execution_count": null,
   "metadata": {},
   "outputs": [],
   "source": []
  }
 ],
 "metadata": {
  "kernelspec": {
   "display_name": "Python 3",
   "language": "python",
   "name": "python3"
  },
  "language_info": {
   "codemirror_mode": {
    "name": "ipython",
    "version": 3
   },
   "file_extension": ".py",
   "mimetype": "text/x-python",
   "name": "python",
   "nbconvert_exporter": "python",
   "pygments_lexer": "ipython3",
   "version": "3.7.4"
  }
 },
 "nbformat": 4,
 "nbformat_minor": 4
}
