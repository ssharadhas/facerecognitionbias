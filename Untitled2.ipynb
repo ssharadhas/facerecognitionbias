{
 "cells": [
  {
   "cell_type": "code",
   "execution_count": 1,
   "metadata": {},
   "outputs": [
    {
     "name": "stdout",
     "output_type": "stream",
     "text": [
      "Azure Blob storage v12.5.0 - Python quickstart sample\n"
     ]
    }
   ],
   "source": [
    "import os, uuid\n",
    "from azure.storage.blob import BlobServiceClient, BlobClient, ContainerClient, __version__\n",
    "\n",
    "try:\n",
    "    print(\"Azure Blob storage v\" + __version__ + \" - Python quickstart sample\")\n",
    "    # Quick start code goes here\n",
    "except Exception as ex:\n",
    "    print('Exception:')\n",
    "    print(ex)"
   ]
  },
  {
   "cell_type": "code",
   "execution_count": 20,
   "metadata": {},
   "outputs": [],
   "source": [
    "\n",
    "blob_service_client = BlobServiceClient.from_connection_string('DefaultEndpointsProtocol=https;AccountName=proj24;AccountKey=YnIzV9H2N1KyicFlM6vvBFV5538j1yIYLtlg6SyWwQv2/EqJZX5uvE94rskQtq5LhpAz3QkU/7ggapuGGybEYA==;EndpointSuffix=core.windows.net')\n",
    "container_client = blob_service_client.get_container_client(\"data1\")\n",
    "\n",
    "blob_client = container_client.get_blob_client(\"coarse_tilt_aligned_face.2282.11597935265_29bcdfa4a5_o.jpg\")\n",
    "        \n",
    "\n",
    " \n"
   ]
  },
  {
   "cell_type": "code",
   "execution_count": 21,
   "metadata": {},
   "outputs": [
    {
     "name": "stdout",
     "output_type": "stream",
     "text": [
      "\n",
      "Listing blobs...\n",
      "\tcoarse_tilt_aligned_face.2282.11597935265_29bcdfa4a5_o.jpg\n",
      "\tcoarse_tilt_aligned_face.2282.11597961815_4916cbf003_o.jpg\n"
     ]
    }
   ],
   "source": [
    "print(\"\\nListing blobs...\")\n",
    "\n",
    "# List the blobs in the container\n",
    "blob_list = container_client.list_blobs()\n",
    "for blob in blob_list:\n",
    "    print(\"\\t\" + blob.name)"
   ]
  },
  {
   "cell_type": "code",
   "execution_count": 6,
   "metadata": {},
   "outputs": [
    {
     "name": "stdout",
     "output_type": "stream",
     "text": [
      "{(5, 6): 9}\n"
     ]
    }
   ],
   "source": [
    "l1=[]\n",
    "l1.append(5)\n",
    "l1.append(6)\n",
    "tu=tuple(l1)\n",
    "dict9={}\n",
    "dict9[tu]=9\n",
    "print(dict9)"
   ]
  },
  {
   "cell_type": "code",
   "execution_count": null,
   "metadata": {},
   "outputs": [],
   "source": []
  }
 ],
 "metadata": {
  "kernelspec": {
   "display_name": "Python 3",
   "language": "python",
   "name": "python3"
  },
  "language_info": {
   "codemirror_mode": {
    "name": "ipython",
    "version": 3
   },
   "file_extension": ".py",
   "mimetype": "text/x-python",
   "name": "python",
   "nbconvert_exporter": "python",
   "pygments_lexer": "ipython3",
   "version": "3.7.4"
  }
 },
 "nbformat": 4,
 "nbformat_minor": 4
}
